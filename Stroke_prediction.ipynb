{
 "cells": [
  {
   "cell_type": "markdown",
   "metadata": {},
   "source": [
    "# Stroke prediction"
   ]
  },
  {
   "cell_type": "code",
   "execution_count": 1,
   "metadata": {},
   "outputs": [],
   "source": [
    "# import of neccesary modules\n",
    "import pandas as pd\n",
    "import numpy as np\n",
    "import matplotlib.pyplot as plt\n",
    "import seaborn as sns\n",
    "from pandas import Series, DataFrame\n",
    "from sklearn.linear_model import LogisticRegression\n",
    "from sklearn.model_selection import train_test_split\n",
    "from sklearn.preprocessing import StandardScaler\n",
    "from sklearn.pipeline import Pipeline\n",
    "from sklearn.metrics import confusion_matrix, classification_report\n",
    "from sklearn.metrics import roc_curve\n",
    "from sklearn.model_selection import cross_val_score\n",
    "from sklearn.metrics import roc_auc_score\n",
    "from sklearn import metrics\n",
    "from sklearn.tree import DecisionTreeClassifier\n",
    "from sklearn.model_selection import GridSearchCV"
   ]
  },
  {
   "cell_type": "code",
   "execution_count": 2,
   "metadata": {},
   "outputs": [
    {
     "data": {
      "text/html": [
       "<div>\n",
       "<style scoped>\n",
       "    .dataframe tbody tr th:only-of-type {\n",
       "        vertical-align: middle;\n",
       "    }\n",
       "\n",
       "    .dataframe tbody tr th {\n",
       "        vertical-align: top;\n",
       "    }\n",
       "\n",
       "    .dataframe thead th {\n",
       "        text-align: right;\n",
       "    }\n",
       "</style>\n",
       "<table border=\"1\" class=\"dataframe\">\n",
       "  <thead>\n",
       "    <tr style=\"text-align: right;\">\n",
       "      <th></th>\n",
       "      <th>ID</th>\n",
       "      <th>Gender</th>\n",
       "      <th>Age_In_Days</th>\n",
       "      <th>Hypertension</th>\n",
       "      <th>Heart_Disease</th>\n",
       "      <th>Ever_Married</th>\n",
       "      <th>Type_Of_Work</th>\n",
       "      <th>Residence</th>\n",
       "      <th>Avg_Glucose</th>\n",
       "      <th>BMI</th>\n",
       "      <th>Smoking_Status</th>\n",
       "      <th>Stroke</th>\n",
       "    </tr>\n",
       "  </thead>\n",
       "  <tbody>\n",
       "    <tr>\n",
       "      <th>0</th>\n",
       "      <td>31153</td>\n",
       "      <td>Male</td>\n",
       "      <td>1104.0</td>\n",
       "      <td>0</td>\n",
       "      <td>0</td>\n",
       "      <td>No</td>\n",
       "      <td>children</td>\n",
       "      <td>Rural</td>\n",
       "      <td>95.12</td>\n",
       "      <td>18.0</td>\n",
       "      <td>NaN</td>\n",
       "      <td>0</td>\n",
       "    </tr>\n",
       "    <tr>\n",
       "      <th>1</th>\n",
       "      <td>30650</td>\n",
       "      <td>Male</td>\n",
       "      <td>21204.0</td>\n",
       "      <td>1</td>\n",
       "      <td>0</td>\n",
       "      <td>Yes</td>\n",
       "      <td>Private</td>\n",
       "      <td>Urban</td>\n",
       "      <td>87.96</td>\n",
       "      <td>39.2</td>\n",
       "      <td>never smoked</td>\n",
       "      <td>0</td>\n",
       "    </tr>\n",
       "    <tr>\n",
       "      <th>2</th>\n",
       "      <td>17412</td>\n",
       "      <td>Female</td>\n",
       "      <td>2928.0</td>\n",
       "      <td>0</td>\n",
       "      <td>0</td>\n",
       "      <td>No</td>\n",
       "      <td>Private</td>\n",
       "      <td>Urban</td>\n",
       "      <td>110.89</td>\n",
       "      <td>17.6</td>\n",
       "      <td>NaN</td>\n",
       "      <td>0</td>\n",
       "    </tr>\n",
       "    <tr>\n",
       "      <th>3</th>\n",
       "      <td>57008</td>\n",
       "      <td>Female</td>\n",
       "      <td>25578.0</td>\n",
       "      <td>0</td>\n",
       "      <td>0</td>\n",
       "      <td>Yes</td>\n",
       "      <td>Private</td>\n",
       "      <td>Rural</td>\n",
       "      <td>69.04</td>\n",
       "      <td>35.9</td>\n",
       "      <td>formerly smoked</td>\n",
       "      <td>0</td>\n",
       "    </tr>\n",
       "    <tr>\n",
       "      <th>4</th>\n",
       "      <td>46657</td>\n",
       "      <td>Male</td>\n",
       "      <td>5128.0</td>\n",
       "      <td>0</td>\n",
       "      <td>0</td>\n",
       "      <td>No</td>\n",
       "      <td>Never_worked</td>\n",
       "      <td>Rural</td>\n",
       "      <td>161.28</td>\n",
       "      <td>19.1</td>\n",
       "      <td>NaN</td>\n",
       "      <td>0</td>\n",
       "    </tr>\n",
       "  </tbody>\n",
       "</table>\n",
       "</div>"
      ],
      "text/plain": [
       "      ID  Gender  Age_In_Days  Hypertension  Heart_Disease Ever_Married  \\\n",
       "0  31153    Male       1104.0             0              0           No   \n",
       "1  30650    Male      21204.0             1              0          Yes   \n",
       "2  17412  Female       2928.0             0              0           No   \n",
       "3  57008  Female      25578.0             0              0          Yes   \n",
       "4  46657    Male       5128.0             0              0           No   \n",
       "\n",
       "   Type_Of_Work Residence  Avg_Glucose   BMI   Smoking_Status  Stroke  \n",
       "0      children     Rural        95.12  18.0              NaN       0  \n",
       "1       Private     Urban        87.96  39.2     never smoked       0  \n",
       "2       Private     Urban       110.89  17.6              NaN       0  \n",
       "3       Private     Rural        69.04  35.9  formerly smoked       0  \n",
       "4  Never_worked     Rural       161.28  19.1              NaN       0  "
      ]
     },
     "metadata": {},
     "output_type": "display_data"
    },
    {
     "data": {
      "text/html": [
       "<div>\n",
       "<style scoped>\n",
       "    .dataframe tbody tr th:only-of-type {\n",
       "        vertical-align: middle;\n",
       "    }\n",
       "\n",
       "    .dataframe tbody tr th {\n",
       "        vertical-align: top;\n",
       "    }\n",
       "\n",
       "    .dataframe thead th {\n",
       "        text-align: right;\n",
       "    }\n",
       "</style>\n",
       "<table border=\"1\" class=\"dataframe\">\n",
       "  <thead>\n",
       "    <tr style=\"text-align: right;\">\n",
       "      <th></th>\n",
       "      <th>ID</th>\n",
       "      <th>Age_In_Days</th>\n",
       "      <th>Hypertension</th>\n",
       "      <th>Heart_Disease</th>\n",
       "      <th>Avg_Glucose</th>\n",
       "      <th>BMI</th>\n",
       "      <th>Stroke</th>\n",
       "    </tr>\n",
       "  </thead>\n",
       "  <tbody>\n",
       "    <tr>\n",
       "      <th>count</th>\n",
       "      <td>43400.000000</td>\n",
       "      <td>43400.000000</td>\n",
       "      <td>43400.000000</td>\n",
       "      <td>43400.000000</td>\n",
       "      <td>43400.000000</td>\n",
       "      <td>41938.000000</td>\n",
       "      <td>43400.000000</td>\n",
       "    </tr>\n",
       "    <tr>\n",
       "      <th>mean</th>\n",
       "      <td>36875.482604</td>\n",
       "      <td>15446.234931</td>\n",
       "      <td>0.093571</td>\n",
       "      <td>0.047512</td>\n",
       "      <td>104.482750</td>\n",
       "      <td>28.605038</td>\n",
       "      <td>0.018041</td>\n",
       "    </tr>\n",
       "    <tr>\n",
       "      <th>std</th>\n",
       "      <td>21072.890037</td>\n",
       "      <td>8334.882942</td>\n",
       "      <td>0.291235</td>\n",
       "      <td>0.212733</td>\n",
       "      <td>43.111751</td>\n",
       "      <td>7.770020</td>\n",
       "      <td>0.133103</td>\n",
       "    </tr>\n",
       "    <tr>\n",
       "      <th>min</th>\n",
       "      <td>176.000000</td>\n",
       "      <td>-16381.000000</td>\n",
       "      <td>0.000000</td>\n",
       "      <td>0.000000</td>\n",
       "      <td>55.000000</td>\n",
       "      <td>10.100000</td>\n",
       "      <td>0.000000</td>\n",
       "    </tr>\n",
       "    <tr>\n",
       "      <th>25%</th>\n",
       "      <td>18594.250000</td>\n",
       "      <td>8789.000000</td>\n",
       "      <td>0.000000</td>\n",
       "      <td>0.000000</td>\n",
       "      <td>77.540000</td>\n",
       "      <td>23.200000</td>\n",
       "      <td>0.000000</td>\n",
       "    </tr>\n",
       "    <tr>\n",
       "      <th>50%</th>\n",
       "      <td>36908.000000</td>\n",
       "      <td>16074.000000</td>\n",
       "      <td>0.000000</td>\n",
       "      <td>0.000000</td>\n",
       "      <td>91.580000</td>\n",
       "      <td>27.700000</td>\n",
       "      <td>0.000000</td>\n",
       "    </tr>\n",
       "    <tr>\n",
       "      <th>75%</th>\n",
       "      <td>55054.250000</td>\n",
       "      <td>21923.250000</td>\n",
       "      <td>0.000000</td>\n",
       "      <td>0.000000</td>\n",
       "      <td>112.070000</td>\n",
       "      <td>32.900000</td>\n",
       "      <td>0.000000</td>\n",
       "    </tr>\n",
       "    <tr>\n",
       "      <th>max</th>\n",
       "      <td>73899.000000</td>\n",
       "      <td>264301.000000</td>\n",
       "      <td>1.000000</td>\n",
       "      <td>1.000000</td>\n",
       "      <td>291.050000</td>\n",
       "      <td>97.600000</td>\n",
       "      <td>1.000000</td>\n",
       "    </tr>\n",
       "  </tbody>\n",
       "</table>\n",
       "</div>"
      ],
      "text/plain": [
       "                 ID    Age_In_Days  Hypertension  Heart_Disease   Avg_Glucose  \\\n",
       "count  43400.000000   43400.000000  43400.000000   43400.000000  43400.000000   \n",
       "mean   36875.482604   15446.234931      0.093571       0.047512    104.482750   \n",
       "std    21072.890037    8334.882942      0.291235       0.212733     43.111751   \n",
       "min      176.000000  -16381.000000      0.000000       0.000000     55.000000   \n",
       "25%    18594.250000    8789.000000      0.000000       0.000000     77.540000   \n",
       "50%    36908.000000   16074.000000      0.000000       0.000000     91.580000   \n",
       "75%    55054.250000   21923.250000      0.000000       0.000000    112.070000   \n",
       "max    73899.000000  264301.000000      1.000000       1.000000    291.050000   \n",
       "\n",
       "                BMI        Stroke  \n",
       "count  41938.000000  43400.000000  \n",
       "mean      28.605038      0.018041  \n",
       "std        7.770020      0.133103  \n",
       "min       10.100000      0.000000  \n",
       "25%       23.200000      0.000000  \n",
       "50%       27.700000      0.000000  \n",
       "75%       32.900000      0.000000  \n",
       "max       97.600000      1.000000  "
      ]
     },
     "metadata": {},
     "output_type": "display_data"
    },
    {
     "name": "stdout",
     "output_type": "stream",
     "text": [
      "missing values in % : \n",
      "\n",
      " Smoking_Status    30.63\n",
      "BMI                3.37\n",
      "Stroke             0.00\n",
      "Avg_Glucose        0.00\n",
      "Residence          0.00\n",
      "Type_Of_Work       0.00\n",
      "Ever_Married       0.00\n",
      "Heart_Disease      0.00\n",
      "Hypertension       0.00\n",
      "Age_In_Days        0.00\n",
      "Gender             0.00\n",
      "ID                 0.00\n",
      "dtype: float64\n"
     ]
    },
    {
     "data": {
      "image/png": "[encoded data removed]",
      "text/plain": [
       "<Figure size 432x288 with 1 Axes>"
      ]
     },
     "metadata": {
      "needs_background": "light"
     },
     "output_type": "display_data"
    }
   ],
   "source": [
    "# first look at the data\n",
    "df = pd.read_csv(r'Stroke_Prediction.csv')\n",
    "display(df.head())\n",
    "# display(df.dtypes)\n",
    "# number of missing values\n",
    "display(df.describe())\n",
    "\n",
    "def missing(df):\n",
    "    print ('missing values in % : \\n\\n', round((df.isnull().sum() * 100/ len(df)),2).sort_values(ascending=False))\n",
    "\n",
    "missing(df)\n",
    "# plot storke - no stroke proportion\n",
    "plt.title('Target variable')\n",
    "ax = sns.countplot(x=\"Stroke\", data=df)"
   ]
  },
  {
   "cell_type": "markdown",
   "metadata": {},
   "source": [
    "##  filling missing data and removing outliers"
   ]
  },
  {
   "cell_type": "code",
   "execution_count": 3,
   "metadata": {},
   "outputs": [
    {
     "name": "stdout",
     "output_type": "stream",
     "text": [
      "missing values in % : \n",
      "\n",
      " Age_years         0.0\n",
      "obese             0.0\n",
      "Stroke            0.0\n",
      "Smoking_Status    0.0\n",
      "BMI               0.0\n",
      "Avg_Glucose       0.0\n",
      "Residence         0.0\n",
      "Type_Of_Work      0.0\n",
      "Ever_Married      0.0\n",
      "Heart_Disease     0.0\n",
      "Hypertension      0.0\n",
      "Age_In_Days       0.0\n",
      "Gender            0.0\n",
      "ID                0.0\n",
      "dtype: float64\n"
     ]
    }
   ],
   "source": [
    "# fill missing values for BMI with median value       \n",
    "df['BMI'].fillna(np.median, inplace =True)\n",
    "df['BMI'] = pd.to_numeric(df['BMI'], errors='coerce')\n",
    "\n",
    "# classify BMI into obese (0) and not obese (1)\n",
    "series = df['BMI'] \n",
    "df['obese'] = [0 if x <=35 else 1 for x in series]\n",
    "\n",
    "# remove outliers - age more tha 100 years old\n",
    "df = df.loc[df['Age_In_Days'] < 40000]\n",
    "df = df.loc[df['Age_In_Days'] > 0]\n",
    "\n",
    "df['Age_years'] = df['Age_In_Days']/365\n",
    "\n",
    "df['Smoking_Status'].fillna('never smoked', inplace =True)\n",
    "# remove ramaining null values\n",
    "df = df.dropna()\n",
    "missing(df)"
   ]
  },
  {
   "cell_type": "markdown",
   "metadata": {},
   "source": [
    "## Explanatory analysis of variables"
   ]
  },
  {
   "cell_type": "code",
   "execution_count": 4,
   "metadata": {},
   "outputs": [
    {
     "data": {
      "image/png": "[encoded data removed]",
      "text/plain": [
       "<Figure size 360x288 with 1 Axes>"
      ]
     },
     "metadata": {
      "needs_background": "light"
     },
     "output_type": "display_data"
    },
    {
     "data": {
      "image/png": "[encoded data removed]",
      "text/plain": [
       "<Figure size 360x288 with 1 Axes>"
      ]
     },
     "metadata": {
      "needs_background": "light"
     },
     "output_type": "display_data"
    },
    {
     "data": {
      "image/png": "[encoded data removed]",
      "text/plain": [
       "<Figure size 360x288 with 1 Axes>"
      ]
     },
     "metadata": {
      "needs_background": "light"
     },
     "output_type": "display_data"
    }
   ],
   "source": [
    "lista_numeric = ['Age_years', 'Avg_Glucose', 'BMI']\n",
    "\n",
    "for i in lista_numeric:\n",
    "    plt.figure(figsize=(5, 4))\n",
    "    plt.title(i)\n",
    "    ax = sns.boxplot(x=\"Stroke\", y=i, data=df)"
   ]
  },
  {
   "cell_type": "code",
   "execution_count": 5,
   "metadata": {},
   "outputs": [
    {
     "data": {
      "text/plain": [
       "<Figure size 720x288 with 0 Axes>"
      ]
     },
     "metadata": {},
     "output_type": "display_data"
    },
    {
     "data": {
      "image/png": "[encoded data removed]",
      "text/plain": [
       "<Figure size 402.375x360 with 1 Axes>"
      ]
     },
     "metadata": {
      "needs_background": "light"
     },
     "output_type": "display_data"
    },
    {
     "data": {
      "text/plain": [
       "<Figure size 720x288 with 0 Axes>"
      ]
     },
     "metadata": {},
     "output_type": "display_data"
    },
    {
     "data": {
      "image/png": "[encoded data removed]",
      "text/plain": [
       "<Figure size 402.375x360 with 1 Axes>"
      ]
     },
     "metadata": {
      "needs_background": "light"
     },
     "output_type": "display_data"
    },
    {
     "data": {
      "text/plain": [
       "<Figure size 720x288 with 0 Axes>"
      ]
     },
     "metadata": {},
     "output_type": "display_data"
    },
    {
     "data": {
      "image/png": "[encoded data removed]",
      "text/plain": [
       "<Figure size 402.375x360 with 1 Axes>"
      ]
     },
     "metadata": {
      "needs_background": "light"
     },
     "output_type": "display_data"
    },
    {
     "data": {
      "text/plain": [
       "<Figure size 720x288 with 0 Axes>"
      ]
     },
     "metadata": {},
     "output_type": "display_data"
    },
    {
     "data": {
      "image/png": "[encoded data removed]",
      "text/plain": [
       "<Figure size 402.375x360 with 1 Axes>"
      ]
     },
     "metadata": {
      "needs_background": "light"
     },
     "output_type": "display_data"
    },
    {
     "data": {
      "text/plain": [
       "<Figure size 720x288 with 0 Axes>"
      ]
     },
     "metadata": {},
     "output_type": "display_data"
    },
    {
     "data": {
      "image/png": "[encoded data removed]",
      "text/plain": [
       "<Figure size 402.375x360 with 1 Axes>"
      ]
     },
     "metadata": {
      "needs_background": "light"
     },
     "output_type": "display_data"
    },
    {
     "data": {
      "text/plain": [
       "<Figure size 720x288 with 0 Axes>"
      ]
     },
     "metadata": {},
     "output_type": "display_data"
    },
    {
     "data": {
      "image/png": "[encoded data removed]",
      "text/plain": [
       "<Figure size 402.375x360 with 1 Axes>"
      ]
     },
     "metadata": {
      "needs_background": "light"
     },
     "output_type": "display_data"
    }
   ],
   "source": [
    "lista_cat = [\"Smoking_Status\",\"Gender\", \"Hypertension\",\"Heart_Disease\",\"Type_Of_Work\",\"Residence\"]\n",
    "\n",
    "for i in lista_cat: \n",
    "    plt.figure(figsize=(10, 4))\n",
    "    sns.catplot(x=i, y=\"Age_years\", hue=\"Stroke\", kind=\"box\", data=df)"
   ]
  },
  {
   "cell_type": "markdown",
   "metadata": {},
   "source": [
    "### Recode categorical variables"
   ]
  },
  {
   "cell_type": "code",
   "execution_count": 6,
   "metadata": {},
   "outputs": [],
   "source": [
    "# 0: male, 1:female\n",
    "series = df['Gender']\n",
    "df['Gender'] = [0 if x == 'Male' else 1 for x in series]\n",
    "series = df['Ever_Married']\n",
    "\n",
    "df['Ever_Married'] = [0 if x == 'No' else 1 for x in series]\n",
    "series = df['Residence']\n",
    "\n",
    "# 0: rural, 1: urban\n",
    "df['Residence'] = [0 if x == 'Rural' else 1 for x in series]"
   ]
  },
  {
   "cell_type": "markdown",
   "metadata": {},
   "source": [
    "# Predictions"
   ]
  },
  {
   "cell_type": "code",
   "execution_count": 7,
   "metadata": {
    "scrolled": true
   },
   "outputs": [],
   "source": [
    "# Function for classification with diffrent ML methods\n",
    "\n",
    "def modeling(X_train_res, X_test, y_train_res, y_test, df, model, name, variables):\n",
    "    \n",
    "    # Setup the pipeline steps: scaling and fitting model \n",
    "    steps = [('scaler', StandardScaler()),\n",
    "                         ('reg', model)]\n",
    "    \n",
    "    # Create the pipeline: pipeline\n",
    "    pipeline = Pipeline(steps)\n",
    "\n",
    "    # Fit it to the training data\n",
    "    pipeline.fit(X_train_res, y_train_res)\n",
    "\n",
    "    # Predict the labels of the test set: y_pred\n",
    "    y_pred = pipeline.predict(X_test)\n",
    "\n",
    "    # Compute and print AUC score\n",
    "    auc_roc = roc_auc_score(y_test, y_pred)\n",
    "    print(\"AUC: {}, model : {}\".format(auc_roc, name))\n",
    "\n",
    "    # Generate ROC curve values: fpr, tpr, thresholds\n",
    "    fpr, tpr, thresholds = roc_curve(y_test, y_pred)\n",
    "    \n",
    "    conf_mat = confusion_matrix(y_true=y_test, y_pred=y_pred)\n",
    "    print('Confusion matrix:\\n', conf_mat)\n",
    "\n",
    "    labels = ['No Stroke', 'Stroke']\n",
    "    fig = plt.figure()\n",
    "    ax = fig.add_subplot(111)\n",
    "    cax = ax.matshow(conf_mat, cmap=plt.cm.Blues)\n",
    "    fig.colorbar(cax)\n",
    "    ax.set_xticklabels([''] + labels)\n",
    "    ax.set_yticklabels([''] + labels)\n",
    "    plt.title('CM  ' +  name)\n",
    "    plt.xlabel('Predicted')\n",
    "    plt.ylabel('Expected')\n",
    "    plt.show()"
   ]
  },
  {
   "cell_type": "markdown",
   "metadata": {},
   "source": [
    "## selection of explanatory variables"
   ]
  },
  {
   "cell_type": "code",
   "execution_count": 11,
   "metadata": {},
   "outputs": [],
   "source": [
    "variables_short = ['Age_In_Days', 'Heart_Disease', 'Avg_Glucose', 'BMI']"
   ]
  },
  {
   "cell_type": "markdown",
   "metadata": {},
   "source": [
    "## spliting into train-test and upsampling of minority class"
   ]
  },
  {
   "cell_type": "code",
   "execution_count": 12,
   "metadata": {},
   "outputs": [],
   "source": [
    "from imblearn.over_sampling import SMOTE \n",
    "sm = SMOTE(random_state = 2) \n",
    "\n",
    "X_train, X_test, y_train, y_test = train_test_split(df[variables_short], df['Stroke'], test_size=0.3)\n",
    "    \n",
    "## Up-sample Minority Class of stroke using SMOTE algorithm\n",
    "X_train_res, y_train_res = sm.fit_sample(X_train, y_train) "
   ]
  },
  {
   "cell_type": "markdown",
   "metadata": {},
   "source": [
    "##  logistic regression"
   ]
  },
  {
   "cell_type": "code",
   "execution_count": 13,
   "metadata": {},
   "outputs": [
    {
     "name": "stdout",
     "output_type": "stream",
     "text": [
      "AUC: 0.7852927589790969, model : logistic regression\n",
      "Confusion matrix:\n",
      " [[9002 3368]\n",
      " [  33  177]]\n"
     ]
    },
    {
     "data": {
      "image/png": "[encoded data removed]",
      "text/plain": [
       "<Figure size 432x288 with 2 Axes>"
      ]
     },
     "metadata": {
      "needs_background": "light"
     },
     "output_type": "display_data"
    }
   ],
   "source": [
    "grid={\"C\":np.logspace(-3,3,7), \"penalty\":[\"l2\"]} # l2 ridge\n",
    "logreg=LogisticRegression()\n",
    "logreg_cv=GridSearchCV(logreg, grid, scoring='roc_auc',cv=10)\n",
    "\n",
    "modeling(X_train_res, X_test, y_train_res, y_test, df, logreg_cv, 'logistic regression', variables_short)"
   ]
  },
  {
   "cell_type": "markdown",
   "metadata": {},
   "source": [
    "##  K - neighbours"
   ]
  },
  {
   "cell_type": "code",
   "execution_count": 14,
   "metadata": {},
   "outputs": [
    {
     "name": "stdout",
     "output_type": "stream",
     "text": [
      "AUC: 0.6415944874311892, model : K-neighbours\n",
      "Confusion matrix:\n",
      " [[10336  2034]\n",
      " [  116    94]]\n"
     ]
    },
    {
     "data": {
      "image/png": "[encoded data removed]",
      "text/plain": [
       "<Figure size 432x288 with 2 Axes>"
      ]
     },
     "metadata": {
      "needs_background": "light"
     },
     "output_type": "display_data"
    }
   ],
   "source": [
    "from sklearn.neighbors import KNeighborsClassifier\n",
    "k_range = list(range(1, 31))\n",
    "\n",
    "knn = KNeighborsClassifier()\n",
    "param_grid = dict(n_neighbors=k_range)\n",
    "NN_cv = GridSearchCV(knn, param_grid, cv=20, scoring='accuracy')\n",
    "\n",
    "modeling(X_train_res, X_test, y_train_res, y_test, df, NN_cv, 'K-neighbours', variables_short)"
   ]
  },
  {
   "cell_type": "markdown",
   "metadata": {},
   "source": [
    "## Decision Trees"
   ]
  },
  {
   "cell_type": "code",
   "execution_count": 15,
   "metadata": {},
   "outputs": [
    {
     "name": "stdout",
     "output_type": "stream",
     "text": [
      "AUC: 0.5595796281325788, model : Decision Trees\n",
      "Confusion matrix:\n",
      " [[11370  1000]\n",
      " [  168    42]]\n"
     ]
    },
    {
     "data": {
      "image/png": "[encoded data removed]",
      "text/plain": [
       "<Figure size 432x288 with 2 Axes>"
      ]
     },
     "metadata": {
      "needs_background": "light"
     },
     "output_type": "display_data"
    }
   ],
   "source": [
    "criterion = ['gini', 'entropy']\n",
    "max_depth = [1, 2,4,6,8,12,18]\n",
    "\n",
    "# Create a dictionary of all the parameter options \n",
    "parameters = dict(decisiontree__criterion=criterion,  decisiontree__max_depth=max_depth)\n",
    "\n",
    "dec_trees_random = DecisionTreeClassifier(random_state=0)\n",
    "\n",
    "clf = GridSearchCV(dec_trees_random, parameters)\n",
    "modeling(X_train_res, X_test, y_train_res, y_test, df, dec_trees_random, 'Decision Trees', variables_short)"
   ]
  },
  {
   "cell_type": "markdown",
   "metadata": {},
   "source": [
    "##  Support Vector Machines"
   ]
  },
  {
   "cell_type": "code",
   "execution_count": null,
   "metadata": {},
   "outputs": [],
   "source": [
    "from sklearn.svm import SVC\n",
    "from sklearn import svm\n",
    "param_grid = {'C': [0.1,1], 'gamma': [0.1,0.01],'kernel': ['rbf']}\n",
    "\n",
    "SVM_CV = SVC()\n",
    "\n",
    "modeling(X_train_res, X_test, y_train_res, y_test, df, SVM_CV, 'SVM', variables_short)"
   ]
  },
  {
   "cell_type": "code",
   "execution_count": null,
   "metadata": {},
   "outputs": [],
   "source": []
  },
  {
   "cell_type": "code",
   "execution_count": null,
   "metadata": {},
   "outputs": [],
   "source": []
  }
 ],
 "metadata": {
  "kernelspec": {
   "display_name": "Python 3",
   "language": "python",
   "name": "python3"
  },
  "language_info": {
   "codemirror_mode": {
    "name": "ipython",
    "version": 3
   },
   "file_extension": ".py",
   "mimetype": "text/x-python",
   "name": "python",
   "nbconvert_exporter": "python",
   "pygments_lexer": "ipython3",
   "version": "3.7.4"
  }
 },
 "nbformat": 4,
 "nbformat_minor": 2
}
